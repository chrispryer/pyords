{
 "cells": [
  {
   "cell_type": "code",
   "execution_count": null,
   "metadata": {},
   "outputs": [],
   "source": [
    "%load_ext autoreload\n",
    "%autoreload 2"
   ]
  },
  {
   "cell_type": "code",
   "execution_count": null,
   "metadata": {},
   "outputs": [],
   "source": [
    "from pyords.cluster.algorithms import DBSCAN\n",
    "import plotly.express as pe\n",
    "import pandas as pd\n",
    "import numpy as np\n",
    "import os\n",
    "# TODO: https://developers.google.com/optimization/routing/routing_tasks#setting-start-and-end-locations-for-routes\n",
    "# TODO: all shipments must end at 41.390800, -88.144599"
   ]
  },
  {
   "cell_type": "code",
   "execution_count": null,
   "metadata": {},
   "outputs": [],
   "source": [
    "this_dir = os.path.abspath('')\n",
    "this_dir"
   ]
  },
  {
   "cell_type": "code",
   "execution_count": null,
   "metadata": {},
   "outputs": [],
   "source": [
    "root_dir = os.path.dirname(this_dir)\n",
    "root_dir"
   ]
  },
  {
   "cell_type": "code",
   "execution_count": null,
   "metadata": {
    "scrolled": true
   },
   "outputs": [],
   "source": [
    "filepath = os.path.join('../../tests/vrp_testing_data.csv')\n",
    "df = pd.read_csv(filepath)\n",
    "df.head()"
   ]
  },
  {
   "cell_type": "code",
   "execution_count": null,
   "metadata": {},
   "outputs": [],
   "source": [
    "pe.scatter_geo(df, lat='latitude', lon='longitude', size='pallets', scope='usa')"
   ]
  },
  {
   "cell_type": "code",
   "execution_count": null,
   "metadata": {},
   "outputs": [],
   "source": [
    "epsilon = 0.79585 # approximate degree delta for 50 miles\n",
    "minpts = 2 # at least cluster 2\n",
    "\n",
    "# simplify euclidean distance calculation by projecting to positive vals\n",
    "x = df.latitude.values + 90\n",
    "y = df.longitude.values + 180\n",
    "\n",
    "dbscan = DBSCAN(epsilon, minpts)\n",
    "dbscan.fit(x, y)\n",
    "dbscan.predict()\n",
    "df['cluster'] = dbscan.clusters\n",
    "pe.scatter_geo(df, lat='latitude', lon='longitude', size='pallets', scope='usa',\n",
    "              color='cluster')"
   ]
  },
  {
   "cell_type": "code",
   "execution_count": null,
   "metadata": {},
   "outputs": [],
   "source": [
    "clusters_ranking = df.groupby('cluster')['pallets'].median().sort_values()\n",
    "clusters_ranking"
   ]
  },
  {
   "cell_type": "code",
   "execution_count": null,
   "metadata": {
    "scrolled": true
   },
   "outputs": [],
   "source": [
    "from pyords.distance.matrix import ovrp_haversine_distance_matrix\n",
    "from pyords.solver.helpers import GoogleORCVRP, ovrp_to_df\n",
    "from ortools.constraint_solver import routing_enums_pb2\n",
    "from ortools.constraint_solver import pywrapcp\n",
    "\n",
    "# inputs\n",
    "distances = ovrp_haversine_distance_matrix(\n",
    "    lats=df.latitude.values, lons=df.longitude.values, unit='mi')\n",
    "vehicles = [26]*100\n",
    "demand = np.insert(df.pallets.values, 0, 0)\n",
    "\n",
    "# scripting ortools model construction & method.\n",
    "manager = pywrapcp.RoutingIndexManager(len(distances), len(vehicles), 0)\n",
    "\n",
    "def distance_callback(i:int, j:int):\n",
    "    \"\"\"index of from (i) and to (j)\"\"\"\n",
    "    node_i = manager.IndexToNode(i)\n",
    "    node_j = manager.Inde-xToNode(j)\n",
    "    \n",
    "    return distances[node_i][node_j]\n",
    "\n",
    "# model construction\n",
    "model = pywrapcp.RoutingModel(manager)\n",
    "model.SetArcCostEvaluatorOfAllVehicles(\n",
    "    model.RegisterTransitCallback(distance_callback)\n",
    ")\n",
    "\n",
    "def demand_callback(i:int):\n",
    "    \"\"\"capacity constraint\"\"\"\n",
    "    node = manager.IndexToNode(i)\n",
    "    \n",
    "    return demand[node]\n",
    "\n",
    "model.AddDimensionWithVehicleCapacity(\n",
    "    # function which return the load at each location (cf. cvrp.py example)\n",
    "    model.RegisterUnaryTransitCallback(demand_callback),\n",
    "    \n",
    "    0, # null capacity slack\n",
    "    np.array([cap for cap in vehicles]), # vehicle maximum capacity\n",
    "    True, # start cumul to zero\n",
    "    'Capacity'\n",
    ")\n",
    "\n",
    "# config for optimization search\n",
    "search_parameters = pywrapcp.DefaultRoutingSearchParameters()\n",
    "search_parameters.first_solution_strategy = \\\n",
    "    routing_enums_pb2.FirstSolutionStrategy.PATH_CHEAPEST_ARC\n",
    "search_parameters.time_limit.seconds = 30\n",
    "\n",
    "assignment = model.SolveWithParameters(search_parameters)\n",
    "\n",
    "def get_solution():\n",
    "    total_distance = 0\n",
    "    total_load = 0\n",
    "    solution = []\n",
    "    for vehicle in range(len(vehicles)):\n",
    "        i = model.Start(vehicle)\n",
    "        info = {'vehicle': vehicle, 'route': '', 'stops': set()}\n",
    "        route_distance = 0\n",
    "        route_load = 0\n",
    "        while not model.IsEnd(i):\n",
    "            node = manager.IndexToNode(i)\n",
    "            route_load += demand[node]\n",
    "            info['route'] += ' {0} Load({1})'.format(node, route_load)\n",
    "            previous_i = i\n",
    "            i = assignment.Value(model.NextVar(i))\n",
    "            route_distance += model.GetArcCostForVehicle(\n",
    "                previous_i, i, vehicle)\n",
    "            info['stops'].add(node)\n",
    "        info['route'] += ' {0} Load({1})'.format(\n",
    "            manager.IndexToNode(i), route_load)\n",
    "        info['route'] = info['route'][1:] # strip leading zero\n",
    "        info['dist'] = route_distance\n",
    "        info['load'] = route_load\n",
    "        solution.append(info)\n",
    "        total_distance += route_distance\n",
    "        total_load += route_load\n",
    "    solution.append({'total dist': total_distance})\n",
    "    solution.append({'total load': total_load})\n",
    "        \n",
    "    return solution\n",
    "\n",
    "solution = get_solution()\n",
    "\n",
    "output_vehicles = solution[:-2] # TODO: fix this\n",
    "vehicleindex_w_moststops = np.argmax([len(v['stops']) for v in output_vehicles])\n",
    "vehicles_w_loads = [v for v in output_vehicles if v['load'] > 0]\n",
    "print('total vehicles: %s' % len(output_vehicles))\n",
    "print('total vehicles w loads: %s' % len(vehicles_w_loads))\n",
    "print('total load: %s' % solution[-1])\n",
    "print('total input load: %s' % demand.sum())\n",
    "print('max stop sequence: %s' % output_vehicles[vehicleindex_w_moststops]['stops'])"
   ]
  },
  {
   "cell_type": "code",
   "execution_count": null,
   "metadata": {},
   "outputs": [],
   "source": [
    "for vehicle in vehicles_w_loads:\n",
    "    locs = np.array(list(vehicle['stops'])[1:]) - 1\n",
    "    df.loc[locs, 'vehicle'] = vehicle['vehicle']\n",
    "\n",
    "# look at multistop vehicles\n",
    "multistop_vehicles = \\\n",
    "    [int(v['vehicle']) for v in vehicles_w_loads if len(v['stops']) > 2]\n",
    "\n",
    "def plot(dataframe:pd.DataFrame, trace_by:pd.Series):\n",
    "    return pe.scatter_geo(\n",
    "        dataframe, \n",
    "        lat='latitude', \n",
    "        lon='longitude', \n",
    "        size='pallets', \n",
    "        scope='usa',\n",
    "        color=trace_by\n",
    "    )\n",
    "    \n",
    "plot(\n",
    "    df.loc[df.vehicle.astype(int).isin(multistop_vehicles)],\n",
    "    df.loc[df.vehicle.astype(int).isin(multistop_vehicles)].vehicle.astype(str)\n",
    ")"
   ]
  }
 ],
 "metadata": {
  "kernelspec": {
   "display_name": "Python 3",
   "language": "python",
   "name": "python3"
  },
  "language_info": {
   "codemirror_mode": {
    "name": "ipython",
    "version": 3
   },
   "file_extension": ".py",
   "mimetype": "text/x-python",
   "name": "python",
   "nbconvert_exporter": "python",
   "pygments_lexer": "ipython3",
   "version": "3.7.4"
  }
 },
 "nbformat": 4,
 "nbformat_minor": 2
}
