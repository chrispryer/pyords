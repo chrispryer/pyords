{
 "cells": [
  {
   "cell_type": "code",
   "execution_count": null,
   "metadata": {},
   "outputs": [],
   "source": [
    "!pip install ortools"
   ]
  },
  {
   "cell_type": "code",
   "execution_count": null,
   "metadata": {},
   "outputs": [],
   "source": [
    "!pip install pyords"
   ]
  },
  {
   "cell_type": "code",
   "execution_count": null,
   "metadata": {},
   "outputs": [],
   "source": [
    "from pyords.distance.matrix import ovrp_haversine_distance_matrix\n",
    "from pyords.solver.helpers import GoogleORCVRP\n",
    "\n",
    "import pandas as pd\n",
    "import numpy as np\n",
    "\n",
    "df = pd.read_csv('../../tests/vrp_testing_data.csv')[:20]\n",
    "distances = ovrp_haversine_distance_matrix(\n",
    "    lats=df.latitude.values, lons=df.longitude.values, unit='mi')\n",
    "vehicles = [[1, 100]]*10\n",
    "demand = np.insert(df.pallets.values, 0, 0)\n",
    "cvrp = GoogleORCVRP(distances=distances, demand=demand,\n",
    "    vehicles=vehicles, depot=0, max_seconds=30)\n",
    "cvrp.solve()\n",
    "'cvrp configuration: %s' % cvrp.to_dict()\n",
    "'solution: %s' % cvrp.solution\n",
    "\n",
    "assert len(cvrp.solution) > 0"
   ]
  }
 ],
 "metadata": {
  "kernelspec": {
   "display_name": "Python 3",
   "language": "python",
   "name": "python3"
  },
  "language_info": {
   "codemirror_mode": {
    "name": "ipython",
    "version": 3
   },
   "file_extension": ".py",
   "mimetype": "text/x-python",
   "name": "python",
   "nbconvert_exporter": "python",
   "pygments_lexer": "ipython3",
   "version": "3.7.4"
  }
 },
 "nbformat": 4,
 "nbformat_minor": 2
}
