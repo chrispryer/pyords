{
 "cells": [
  {
   "cell_type": "code",
   "execution_count": null,
   "metadata": {},
   "outputs": [],
   "source": [
    "%load_ext autoreload\n",
    "%autoreload 2"
   ]
  },
  {
   "cell_type": "code",
   "execution_count": null,
   "metadata": {},
   "outputs": [],
   "source": [
    "from pyords.cluster.algorithms import DBSCAN\n",
    "import plotly.express as pe\n",
    "import pandas as pd\n",
    "import numpy as np\n",
    "import os\n",
    "# TODO: https://developers.google.com/optimization/routing/routing_tasks#setting-start-and-end-locations-for-routes\n",
    "# TODO: all shipments must end at 41.390800, -88.144599"
   ]
  },
  {
   "cell_type": "code",
   "execution_count": null,
   "metadata": {},
   "outputs": [],
   "source": [
    "this_dir = os.path.abspath('')\n",
    "this_dir"
   ]
  },
  {
   "cell_type": "code",
   "execution_count": null,
   "metadata": {},
   "outputs": [],
   "source": [
    "root_dir = os.path.dirname(this_dir)\n",
    "root_dir"
   ]
  },
  {
   "cell_type": "code",
   "execution_count": null,
   "metadata": {
    "scrolled": true
   },
   "outputs": [],
   "source": [
    "filepath = os.path.join('../../tests/vrp_testing_data.csv')\n",
    "df = pd.read_csv(filepath)\n",
    "df.head()"
   ]
  },
  {
   "cell_type": "code",
   "execution_count": null,
   "metadata": {},
   "outputs": [],
   "source": [
    "pe.scatter_geo(df, lat='latitude', lon='longitude', size='pallets', scope='usa')"
   ]
  },
  {
   "cell_type": "code",
   "execution_count": null,
   "metadata": {},
   "outputs": [],
   "source": [
    "epsilon = 0.79585 # approximate degree delta for 50 miles\n",
    "minpts = 2 # at least cluster 2\n",
    "\n",
    "# simplify euclidean distance calculation by projecting to positive vals\n",
    "x = df.latitude.values + 90\n",
    "y = df.longitude.values + 180\n",
    "\n",
    "dbscan = DBSCAN(epsilon, minpts)\n",
    "dbscan.fit(x, y)\n",
    "dbscan.predict()\n",
    "df['cluster'] = dbscan.clusters\n",
    "pe.scatter_geo(df, lat='latitude', lon='longitude', size='pallets', scope='usa',\n",
    "              color='cluster')"
   ]
  },
  {
   "cell_type": "code",
   "execution_count": null,
   "metadata": {},
   "outputs": [],
   "source": [
    "from pyords.distance.matrix import ovrp_haversine_distance_matrix\n",
    "from pyords.solver.helpers import GoogleORCVRP, ovrp_to_df"
   ]
  },
  {
   "cell_type": "code",
   "execution_count": null,
   "metadata": {},
   "outputs": [],
   "source": [
    "clusters_ranking = df.groupby('cluster')['pallets'].median().sort_values()\n",
    "clusters_ranking"
   ]
  },
  {
   "cell_type": "code",
   "execution_count": null,
   "metadata": {
    "scrolled": false
   },
   "outputs": [],
   "source": [
    "import pprint\n",
    "\n",
    "def solve(dataframe:pd.DataFrame):\n",
    "    \"\"\"\n",
    "    # scripting out ortools model construction and run\n",
    "    # df: dataframe input containing every shipment.\n",
    "    # distances: distance matrix of all point to point calculations.\n",
    "    #  [[n0-n0, n0-n1, n0-n2, n0-n3], [...], ...]\n",
    "    # vehicles: matrix for truck definition.\n",
    "    #  [[t0_min_weight, t0_max_weight], [...], ...]\n",
    "    # demand: array of demand (includes origin? TODO: validate).\n",
    "    \"\"\"\n",
    "    distances = ovrp_haversine_distance_matrix(\n",
    "        lats=dataframe.latitude.values,\n",
    "        lons=dataframe.longitude.values,\n",
    "        unit='mi'\n",
    "    )\n",
    "    demand = np.insert(dataframe.pallets.values, 0, 0)\n",
    "    avg_demand = np.mean(demand[1:])\n",
    "    vehicles = [[0, 26]]*10\n",
    "    cvrp = GoogleORCVRP(\n",
    "        distances=distances,\n",
    "        demand=demand,\n",
    "        vehicles=vehicles, \n",
    "        depot=0, \n",
    "        max_seconds=30\n",
    "    )\n",
    "    cvrp.solve()\n",
    "    \n",
    "    return cvrp.solution"
   ]
  },
  {
   "cell_type": "code",
   "execution_count": null,
   "metadata": {},
   "outputs": [],
   "source": [
    "solution_count = 1\n",
    "shipment_ids = np.zeros(len(df), dtype=np.int32) - 1\n",
    "for cluster in df.cluster.unique():\n",
    "    if cluster >= 0:\n",
    "        _df = df.loc[df.cluster == cluster]\n",
    "        print(_df.head(), '\\n')\n",
    "        \n",
    "        solution = solve(_df)\n",
    "        \n",
    "        tmp_shipment_ids = ovrp_to_df(_df, solution) * solution_count\n",
    "        indicies = _df.index.tolist()\n",
    "        for i, _id in enumerate(tmp_shipment_ids):\n",
    "            index = indicies[i]\n",
    "            if _id > 0:\n",
    "                shipment_ids[index] = _id\n",
    "            \n",
    "        solution_count += 1"
   ]
  },
  {
   "cell_type": "code",
   "execution_count": null,
   "metadata": {},
   "outputs": [],
   "source": [
    "cluster = 3\n",
    "solution = solve(df[df.cluster == cluster])\n",
    "solution_str = pprint.pformat(solution)\n",
    "print(cluster, solution_str, '\\n')"
   ]
  }
 ],
 "metadata": {
  "kernelspec": {
   "display_name": "Python 3",
   "language": "python",
   "name": "python3"
  },
  "language_info": {
   "codemirror_mode": {
    "name": "ipython",
    "version": 3
   },
   "file_extension": ".py",
   "mimetype": "text/x-python",
   "name": "python",
   "nbconvert_exporter": "python",
   "pygments_lexer": "ipython3",
   "version": "3.7.4"
  }
 },
 "nbformat": 4,
 "nbformat_minor": 2
}
