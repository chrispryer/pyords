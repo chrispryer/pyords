{
 "cells": [
  {
   "cell_type": "code",
   "execution_count": null,
   "metadata": {},
   "outputs": [],
   "source": [
    "%load_ext autoreload\n",
    "%autoreload 2"
   ]
  },
  {
   "cell_type": "code",
   "execution_count": null,
   "metadata": {},
   "outputs": [],
   "source": [
    "import pyords as ps\n",
    "print(ps.__version__) # TODO: target for 0.0.7\n",
    "\n",
    "import plotly.express as pe\n",
    "import pandas as pd\n",
    "import numpy as np\n",
    "import os\n",
    "# TODO: https://developers.google.com/optimization/routing/routing_tasks#setting-start-and-end-locations-for-routes\n",
    "# TODO: all shipments must end at 41.390800, -88.144599"
   ]
  },
  {
   "cell_type": "markdown",
   "metadata": {},
   "source": [
    "# using pyords for shipment optimization\n",
    "\n",
    "```python\n",
    "import pyords as pyr\n",
    "\n",
    "df = pd.read_csv('../../tests/vrp_testing_data.csv')\n",
    "vrp = pyr.OrToolsVrpBamboo(df, demand='pallets', inline=True)\n",
    "vrp.map\n",
    "\n",
    "x = df.latitude\n",
    "y = df.longitude\n",
    "clustering = pyr.DBSCAN(x, y, project_data=True)\n",
    "df['clusters'] = clustering.clusters\n",
    "\n",
    "pymap = vrp.swap(df)\n",
    "vrp.show(show_clusters=True)\n",
    "\n",
    "clustering = clustering.expand('closest')\n",
    "df.clusters = clustering.clusters\n",
    "\n",
    "vrp = vrp.swap(df)\n",
    "vrp.show(show_clusters=True)\n",
    "\n",
    "origins = get_my_origins()\n",
    "destinations = vrp.distance_matrix\n",
    "df['solution_1'] = vrp.route(origins, vehicles)\n",
    "\n",
    "df['solution_2'] = vrp.route(origins, vehicles, limit_by='clusters')\n",
    "\n",
    "vrp.logs\n",
    "```"
   ]
  }
 ],
 "metadata": {
  "kernelspec": {
   "display_name": "Python 3",
   "language": "python",
   "name": "python3"
  },
  "language_info": {
   "codemirror_mode": {
    "name": "ipython",
    "version": 3
   },
   "file_extension": ".py",
   "mimetype": "text/x-python",
   "name": "python",
   "nbconvert_exporter": "python",
   "pygments_lexer": "ipython3",
   "version": "3.7.4"
  }
 },
 "nbformat": 4,
 "nbformat_minor": 2
}
