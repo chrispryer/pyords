{
 "cells": [
  {
   "cell_type": "code",
   "execution_count": null,
   "metadata": {},
   "outputs": [],
   "source": [
    "%load_ext autoreload\n",
    "%autoreload 2"
   ]
  },
  {
   "cell_type": "code",
   "execution_count": null,
   "metadata": {},
   "outputs": [],
   "source": [
    "import pyords as ps\n",
    "print(ps.__version__) # TODO: target for 0.0.7\n",
    "\n",
    "import plotly.express as pe\n",
    "import pandas as pd\n",
    "import numpy as np\n",
    "import os\n",
    "# TODO: https://developers.google.com/optimization/routing/routing_tasks#setting-start-and-end-locations-for-routes\n",
    "# TODO: all shipments must end at 41.390800, -88.144599"
   ]
  },
  {
   "cell_type": "markdown",
   "metadata": {},
   "source": [
    "# using pyords bundles for vehicle optimization\n",
    "\n",
    "```python\n",
    "import pyords as pyr\n",
    "\n",
    "\n",
    "df = pd.read_csv('my_shipment_data.csv')\n",
    "bundle = pyr.OrVrpBundle(zips=df.zipcodes, demand=df.pallets)\n",
    "\n",
    "solution = bundle.run( # get list of vehicles from vrp task\n",
    "    depot_index=0, # required\n",
    "    max_vehicle_capacity=26, # default: 26\n",
    "    max_search_seconds=30, # default 30\n",
    "    segment_by=my_clusters, # optional TODO: allow for distributed\n",
    "    return_solution=True # optional\n",
    ")\n",
    "\n",
    "live_vehicles_returned = [s for s in solution if len(s['stops'][1:-1]) > 0]\n",
    "\n",
    "assert bundle.vehicles.pull('n.utilized') == len(live_vehicles_returned)\n",
    "\n",
    "df['vehicles'] = bundle.pull('vehicles')\n",
    "```\n",
    "\n",
    "# pyords bundles\n",
    "Bundles are self-contained problem definitions that can be tuned with the pyords tool libraries and other more popular python libraries. Bundles are input-output blueprinted objects for solving problems in a python environment. Bamboo bundles are used to branch pyords functionality from dataframes. Pyords bundle fundementals are similar in nature to tasks. A bundle can be initiated with input and completed with parameters."
   ]
  }
 ],
 "metadata": {
  "kernelspec": {
   "display_name": "Python 3",
   "language": "python",
   "name": "python3"
  },
  "language_info": {
   "codemirror_mode": {
    "name": "ipython",
    "version": 3
   },
   "file_extension": ".py",
   "mimetype": "text/x-python",
   "name": "python",
   "nbconvert_exporter": "python",
   "pygments_lexer": "ipython3",
   "version": "3.7.4"
  }
 },
 "nbformat": 4,
 "nbformat_minor": 2
}
