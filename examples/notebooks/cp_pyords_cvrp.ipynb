{
 "cells": [
  {
   "cell_type": "code",
   "execution_count": null,
   "metadata": {},
   "outputs": [],
   "source": [
    "%load_ext autoreload\n",
    "%autoreload 2"
   ]
  },
  {
   "cell_type": "code",
   "execution_count": null,
   "metadata": {},
   "outputs": [],
   "source": [
    "from pyords.cluster.algorithms import DBSCAN\n",
    "from pyords.distance.matrix import ovrp_haversine_distance_matrix\n",
    "from pyords.solver.helpers import OrtoolsCvrpDataFrame, ovrp_to_df\n",
    "from pyords import __version__\n",
    "print(__version__)\n",
    "\n",
    "import plotly.express as pe\n",
    "import pandas as pd\n",
    "import numpy as np\n",
    "import os\n",
    "# TODO: https://developers.google.com/optimization/routing/routing_tasks#setting-start-and-end-locations-for-routes\n",
    "# TODO: all shipments must end at 41.390800, -88.144599"
   ]
  },
  {
   "cell_type": "code",
   "execution_count": null,
   "metadata": {},
   "outputs": [],
   "source": [
    "this_dir = os.path.abspath('')\n",
    "this_dir"
   ]
  },
  {
   "cell_type": "code",
   "execution_count": null,
   "metadata": {},
   "outputs": [],
   "source": [
    "root_dir = os.path.dirname(this_dir)\n",
    "root_dir"
   ]
  },
  {
   "cell_type": "code",
   "execution_count": null,
   "metadata": {
    "scrolled": true
   },
   "outputs": [],
   "source": [
    "filepath = os.path.join('../../tests/vrp_testing_data.csv')\n",
    "df = pd.read_csv(filepath)\n",
    "df.head()"
   ]
  },
  {
   "cell_type": "code",
   "execution_count": null,
   "metadata": {},
   "outputs": [],
   "source": [
    "pe.scatter_geo(df, lat='latitude', lon='longitude', size='pallets', scope='usa')"
   ]
  },
  {
   "cell_type": "code",
   "execution_count": null,
   "metadata": {
    "scrolled": false
   },
   "outputs": [],
   "source": [
    "epsilon = 1.79585 # approximate degree delta for 50 miles\n",
    "minpts = 2 # at least cluster 2\n",
    "\n",
    "# simplify euclidean distance calculation by projecting to positive vals\n",
    "x = df.latitude.values + 90\n",
    "y = df.longitude.values + 180\n",
    "\n",
    "dbscan = DBSCAN(epsilon, minpts)\n",
    "dbscan.fit(x, y)\n",
    "dbscan.predict()\n",
    "df['cluster'] = dbscan.clusters\n",
    "pe.scatter_geo(df, lat='latitude', lon='longitude', size='pallets', scope='usa',\n",
    "              color='cluster')"
   ]
  },
  {
   "cell_type": "code",
   "execution_count": null,
   "metadata": {
    "scrolled": true
   },
   "outputs": [],
   "source": [
    "epsilon = 0.79585 # approximate degree delta for 50 miles\n",
    "minpts = 2 # at least cluster 2\n",
    "\n",
    "# simplify euclidean distance calculation by projecting to positive vals\n",
    "x = df.latitude.values + 90\n",
    "y = df.longitude.values + 180\n",
    "\n",
    "dbscan = DBSCAN(epsilon, minpts)\n",
    "dbscan.fit(x, y)\n",
    "dbscan.predict()\n",
    "df['cluster'] = dbscan.clusters\n",
    "pe.scatter_geo(df, lat='latitude', lon='longitude', size='pallets', scope='usa',\n",
    "              color='cluster')"
   ]
  },
  {
   "cell_type": "code",
   "execution_count": null,
   "metadata": {},
   "outputs": [],
   "source": [
    "clusters_ranking = df.groupby('cluster')['pallets'].median().sort_values()\n",
    "clusters_ranking"
   ]
  },
  {
   "cell_type": "code",
   "execution_count": null,
   "metadata": {
    "scrolled": false
   },
   "outputs": [],
   "source": [
    "def get_ortools_solution_dataframe(dataframe:pd.DataFrame):\n",
    "    \"\"\"\n",
    "    # scripting out ortools model construction and run\n",
    "    # df: dataframe input containing every shipment.\n",
    "      weight,pallets,zipcode,latitude,longitude\n",
    "      18893,24,46168,39.6893,-86.3919\n",
    "      19599,25,46168,39.6893,-86.3919\n",
    "    # distances: distance matrix of all point to point calculations.\n",
    "    #  [[n0-n0, n0-n1, n0-n2, n0-n3], [...], ...]\n",
    "    # vehicles: matrix for truck definition.\n",
    "    #  [[t0_min_weight, t0_max_weight], [...], ...]\n",
    "    # demand: array of demand (includes origin? TODO: validate).\n",
    "\n",
    "    TODO: return dataframe with vehicle col\n",
    "    \"\"\"\n",
    "    dataframe = dataframe.reset_index(drop=True)\n",
    "    app = OrtoolsCvrpDataFrame(\n",
    "        dataframe.copy(),\n",
    "        depot_index=0, \n",
    "        max_solve_seconds=30\n",
    "    )\n",
    "    app.solve()    \n",
    "\n",
    "    return app.df\n",
    "\n",
    "def get_many_ortools_solutions_dataframe(dataframe:pd.DataFrame, segmentation_col:str):\n",
    "    result = pd.DataFrame(columns=dataframe.columns.tolist()+['vehicle'])\n",
    "    \n",
    "    # TODO: create concurrent tasks for segment optimizations\n",
    "    for segment in dataframe[segmentation_col].unique():\n",
    "        segdf = dataframe[dataframe[segmentation_col] == segment].copy()\n",
    "        \n",
    "        if segment not in [np.nan, -1]:\n",
    "            segdf = get_ortools_solution_dataframe(segdf)\n",
    "        \n",
    "        # vehicle tag\n",
    "        if 'vehicle' not in segdf.columns:\n",
    "            segdf['vehicle'] = -1\n",
    "        \n",
    "        segdf.vehicle = (\n",
    "            segdf.vehicle.fillna(-1).astype(int).astype(str) \n",
    "            + '_' + segdf[segmentation_col].fillna(-1).astype(int).astype(str)\n",
    "        )\n",
    "        \n",
    "        not_clustered = (segdf.cluster.isin([np.nan, 'nan', -1, None]))\n",
    "        not_routed = (segdf.vehicle.str.split('_').str[0] == '-1')\n",
    "        segdf.loc[not_clustered | not_routed, 'vehicle'] = None    \n",
    "        \n",
    "        result = result.append(segdf, sort=False)\n",
    "        \n",
    "    return result"
   ]
  },
  {
   "cell_type": "code",
   "execution_count": null,
   "metadata": {
    "scrolled": true
   },
   "outputs": [],
   "source": [
    "#result = get_many_ortools_solutions_dataframe(df, 'cluster')\n",
    "result = get_ortools_solution_dataframe(df)\n",
    "max_stop_vehicle = result.groupby('vehicle').size().sort_values(ascending=False).index[0]\n",
    "result[result.vehicle == max_stop_vehicle]"
   ]
  },
  {
   "cell_type": "code",
   "execution_count": null,
   "metadata": {},
   "outputs": [],
   "source": [
    "result.vehicle = result.vehicle.astype(str)\n",
    "pe.scatter_geo(result, lat='latitude', lon='longitude', size='pallets', scope='usa',\n",
    "              color='vehicle')"
   ]
  },
  {
   "cell_type": "code",
   "execution_count": null,
   "metadata": {},
   "outputs": [],
   "source": [
    "result2 = get_many_ortools_solutions_dataframe(df, 'cluster')\n",
    "\n",
    "print('without dbscan:', result.groupby('vehicle').pallets.sum().mean())\n",
    "print('with dbscan:', result2.groupby('vehicle').pallets.sum().mean())"
   ]
  }
 ],
 "metadata": {
  "kernelspec": {
   "display_name": "Python 3",
   "language": "python",
   "name": "python3"
  },
  "language_info": {
   "codemirror_mode": {
    "name": "ipython",
    "version": 3
   },
   "file_extension": ".py",
   "mimetype": "text/x-python",
   "name": "python",
   "nbconvert_exporter": "python",
   "pygments_lexer": "ipython3",
   "version": "3.7.4"
  }
 },
 "nbformat": 4,
 "nbformat_minor": 2
}
